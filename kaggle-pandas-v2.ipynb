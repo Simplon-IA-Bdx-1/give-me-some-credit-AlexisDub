{
 "cells": [
  {
   "cell_type": "markdown",
   "metadata": {},
   "source": [
    "# BigML : Evaluation "
   ]
  },
  {
   "cell_type": "markdown",
   "metadata": {},
   "source": [
    "Check Install and launch BigML ; \n",
    "for help : https://bigml.readthedocs.io/en/latest/index.html#local-predictions ; \n",
    "Use this link to retreive the key with your account :  https://bigml.com/account/apikey"
   ]
  },
  {
   "cell_type": "code",
   "execution_count": 1,
   "metadata": {},
   "outputs": [],
   "source": [
    "import bigml.api\n",
    "from bigml.api import BigML\n",
    "api = BigML('ALEXISD', '8fe5e17917b5a9ef7a0ec327a53c3f1d507f0911', project='project/5d94a45aeba31d46690001d3')"
   ]
  },
  {
   "cell_type": "markdown",
   "metadata": {},
   "source": [
    "Building Source"
   ]
  },
  {
   "cell_type": "code",
   "execution_count": 5,
   "metadata": {},
   "outputs": [
    {
     "data": {
      "text/plain": [
       "True"
      ]
     },
     "execution_count": 5,
     "metadata": {},
     "output_type": "execute_result"
    }
   ],
   "source": [
    "source = api.create_source('cs-training.csv')\n",
    "api.ok(source)"
   ]
  },
  {
   "cell_type": "markdown",
   "metadata": {},
   "source": [
    "Building Dataset"
   ]
  },
  {
   "cell_type": "code",
   "execution_count": 6,
   "metadata": {},
   "outputs": [
    {
     "data": {
      "text/plain": [
       "True"
      ]
     },
     "execution_count": 6,
     "metadata": {},
     "output_type": "execute_result"
    }
   ],
   "source": [
    "dataset = api.create_dataset(source)\n",
    "api.ok(dataset) "
   ]
  },
  {
   "cell_type": "markdown",
   "metadata": {},
   "source": [
    "Random Split Building dataset into 80% train and 20% Validation"
   ]
  },
  {
   "cell_type": "code",
   "execution_count": 7,
   "metadata": {},
   "outputs": [
    {
     "data": {
      "text/plain": [
       "True"
      ]
     },
     "execution_count": 7,
     "metadata": {},
     "output_type": "execute_result"
    }
   ],
   "source": [
    "train_dataset = api.create_dataset(dataset, {\"name\": \"train\", \"sample_rate\": 0.8, \"seed\": \"my seed\"})\n",
    "api.ok(train_dataset)\n",
    "validation_dataset = api.create_dataset(dataset, {\"name\": \"validation\", \"sample_rate\": 0.8, \"seed\": \"my seed\", \"out_of_bag\": True})\n",
    "api.ok(validation_dataset)"
   ]
  },
  {
   "cell_type": "markdown",
   "metadata": {},
   "source": [
    "Building model"
   ]
  },
  {
   "cell_type": "code",
   "execution_count": 8,
   "metadata": {},
   "outputs": [
    {
     "data": {
      "text/plain": [
       "True"
      ]
     },
     "execution_count": 8,
     "metadata": {},
     "output_type": "execute_result"
    }
   ],
   "source": [
    "ensemble = api.create_ensemble(train_dataset)\n",
    "api.ok(ensemble)"
   ]
  },
  {
   "cell_type": "markdown",
   "metadata": {},
   "source": [
    "Building evaluation and print evaluation"
   ]
  },
  {
   "cell_type": "code",
   "execution_count": 9,
   "metadata": {},
   "outputs": [
    {
     "data": {
      "text/plain": [
       "True"
      ]
     },
     "execution_count": 9,
     "metadata": {},
     "output_type": "execute_result"
    }
   ],
   "source": [
    "evaluation = api.create_evaluation(ensemble,validation_dataset)\n",
    "api.ok (evaluation)"
   ]
  },
  {
   "cell_type": "markdown",
   "metadata": {},
   "source": [
    "Print"
   ]
  },
  {
   "cell_type": "code",
   "execution_count": 10,
   "metadata": {},
   "outputs": [
    {
     "name": "stdout",
     "output_type": "stream",
     "text": [
      "{   'mean': {   'mean_absolute_error': 0.89952,\n",
      "                'mean_squared_error': 1.2345,\n",
      "                'r_squared': 0},\n",
      "    'model': {   'mean_absolute_error': 0.75826,\n",
      "                 'mean_squared_error': 1.00026,\n",
      "                 'per_class_statistics': [],\n",
      "                 'r_squared': 0.18974},\n",
      "    'random': {   'mean_absolute_error': 9.34728,\n",
      "                  'mean_squared_error': 120.41366,\n",
      "                  'r_squared': -96.54074}}\n"
     ]
    }
   ],
   "source": [
    "api.pprint(evaluation['object']['result'])"
   ]
  },
  {
   "cell_type": "code",
   "execution_count": 11,
   "metadata": {},
   "outputs": [
    {
     "ename": "KeyError",
     "evalue": "'accuracy'",
     "output_type": "error",
     "traceback": [
      "\u001b[0;31m---------------------------------------------------------------------------\u001b[0m",
      "\u001b[0;31mKeyError\u001b[0m                                  Traceback (most recent call last)",
      "\u001b[0;32m<ipython-input-11-4702b15b26e6>\u001b[0m in \u001b[0;36m<module>\u001b[0;34m\u001b[0m\n\u001b[0;32m----> 1\u001b[0;31m \u001b[0mapi\u001b[0m\u001b[0;34m.\u001b[0m\u001b[0mpprint\u001b[0m\u001b[0;34m(\u001b[0m\u001b[0mevaluation\u001b[0m\u001b[0;34m[\u001b[0m\u001b[0;34m'object'\u001b[0m\u001b[0;34m]\u001b[0m\u001b[0;34m[\u001b[0m\u001b[0;34m'result'\u001b[0m\u001b[0;34m]\u001b[0m\u001b[0;34m[\u001b[0m\u001b[0;34m'model'\u001b[0m\u001b[0;34m]\u001b[0m\u001b[0;34m[\u001b[0m\u001b[0;34m'accuracy'\u001b[0m\u001b[0;34m]\u001b[0m\u001b[0;34m)\u001b[0m\u001b[0;34m\u001b[0m\u001b[0;34m\u001b[0m\u001b[0m\n\u001b[0m\u001b[1;32m      2\u001b[0m \u001b[0mapi\u001b[0m\u001b[0;34m.\u001b[0m\u001b[0mpprint\u001b[0m\u001b[0;34m(\u001b[0m\u001b[0mevaluation\u001b[0m\u001b[0;34m[\u001b[0m\u001b[0;34m'object'\u001b[0m\u001b[0;34m]\u001b[0m\u001b[0;34m[\u001b[0m\u001b[0;34m'result'\u001b[0m\u001b[0;34m]\u001b[0m\u001b[0;34m[\u001b[0m\u001b[0;34m'model'\u001b[0m\u001b[0;34m]\u001b[0m\u001b[0;34m[\u001b[0m\u001b[0;34m'average_area_under_roc_curve'\u001b[0m\u001b[0;34m]\u001b[0m\u001b[0;34m)\u001b[0m\u001b[0;34m\u001b[0m\u001b[0;34m\u001b[0m\u001b[0m\n\u001b[1;32m      3\u001b[0m \u001b[0mapi\u001b[0m\u001b[0;34m.\u001b[0m\u001b[0mpprint\u001b[0m\u001b[0;34m(\u001b[0m\u001b[0mevaluation\u001b[0m\u001b[0;34m[\u001b[0m\u001b[0;34m'object'\u001b[0m\u001b[0;34m]\u001b[0m\u001b[0;34m[\u001b[0m\u001b[0;34m'result'\u001b[0m\u001b[0;34m]\u001b[0m\u001b[0;34m[\u001b[0m\u001b[0;34m'model'\u001b[0m\u001b[0;34m]\u001b[0m\u001b[0;34m[\u001b[0m\u001b[0;34m'confusion_matrix'\u001b[0m\u001b[0;34m]\u001b[0m\u001b[0;34m)\u001b[0m\u001b[0;34m\u001b[0m\u001b[0;34m\u001b[0m\u001b[0m\n",
      "\u001b[0;31mKeyError\u001b[0m: 'accuracy'"
     ]
    }
   ],
   "source": [
    "api.pprint(evaluation['object']['result']['model']['accuracy'])\n",
    "api.pprint(evaluation['object']['result']['model']['average_area_under_roc_curve'])\n",
    "api.pprint(evaluation['object']['result']['model']['confusion_matrix'])\n"
   ]
  },
  {
   "cell_type": "code",
   "execution_count": 12,
   "metadata": {},
   "outputs": [
    {
     "data": {
      "text/plain": [
       "'my_predictions_val.csv'"
      ]
     },
     "execution_count": 12,
     "metadata": {},
     "output_type": "execute_result"
    }
   ],
   "source": [
    "batch_prediction = api.create_batch_prediction(ensemble, validation_dataset, {\"name\": \"my val prediction\", \"all_fields\":True, \"header\":True,\"probabilities\":True})\n",
    "api.ok(batch_prediction)\n",
    "api.download_batch_prediction(batch_prediction,filename='my_predictions_val.csv')"
   ]
  },
  {
   "cell_type": "markdown",
   "metadata": {},
   "source": [
    "## Matrix confusion via Pandas"
   ]
  },
  {
   "cell_type": "code",
   "execution_count": 13,
   "metadata": {},
   "outputs": [
    {
     "name": "stdout",
     "output_type": "stream",
     "text": [
      "<class 'pandas.core.frame.DataFrame'>\n",
      "RangeIndex: 30000 entries, 0 to 29999\n",
      "Data columns (total 17 columns):\n",
      "field1                                  30000 non-null int64\n",
      "RevolvingUtilizationOfUnsecuredLines    30000 non-null float64\n",
      "age                                     30000 non-null int64\n",
      "NumberOfTime30-59DaysPastDueNotWorse    30000 non-null int64\n",
      "DebtRatio                               30000 non-null float64\n",
      "MonthlyIncome                           23999 non-null float64\n",
      "NumberOfOpenCreditLinesAndLoans         30000 non-null int64\n",
      "NumberOfTimes90DaysLate                 30000 non-null int64\n",
      "NumberRealEstateLoansOrLines            30000 non-null int64\n",
      "NumberOfTime60-89DaysPastDueNotWorse    30000 non-null int64\n",
      "NumberOfDependents                      29192 non-null float64\n",
      "NumberOfTimes90DaysLate_TOTAL           30000 non-null int64\n",
      "IsOld                                   30000 non-null bool\n",
      "SeriousDlqin2yrs                        30000 non-null int64\n",
      "SeriousDlqin2yrs.1                      30000 non-null int64\n",
      "0 probability                           30000 non-null float64\n",
      "1 probability                           30000 non-null float64\n",
      "dtypes: bool(1), float64(6), int64(10)\n",
      "memory usage: 3.7 MB\n"
     ]
    }
   ],
   "source": [
    "import pandas\n",
    "from pandas import read_csv\n",
    "df_val = read_csv('my_predictions_val.csv')\n",
    "df_val.info()\n"
   ]
  },
  {
   "cell_type": "code",
   "execution_count": 14,
   "metadata": {},
   "outputs": [],
   "source": [
    "def CalculError(row):\n",
    "    v = row['SeriousDlqin2yrs']\n",
    "    w = row['SeriousDlqin2yrs.1']\n",
    "    if v == 0 :\n",
    "        if w == 0 :\n",
    "            return 'TN'\n",
    "        else :\n",
    "            return 'FP'\n",
    "    else :\n",
    "        if w == 0 :\n",
    "            return 'FN'\n",
    "        else :\n",
    "            return 'TP'"
   ]
  },
  {
   "cell_type": "code",
   "execution_count": 15,
   "metadata": {
    "scrolled": true
   },
   "outputs": [
    {
     "data": {
      "text/html": [
       "<div>\n",
       "<style scoped>\n",
       "    .dataframe tbody tr th:only-of-type {\n",
       "        vertical-align: middle;\n",
       "    }\n",
       "\n",
       "    .dataframe tbody tr th {\n",
       "        vertical-align: top;\n",
       "    }\n",
       "\n",
       "    .dataframe thead th {\n",
       "        text-align: right;\n",
       "    }\n",
       "</style>\n",
       "<table border=\"1\" class=\"dataframe\">\n",
       "  <thead>\n",
       "    <tr style=\"text-align: right;\">\n",
       "      <th></th>\n",
       "      <th>field1</th>\n",
       "      <th>RevolvingUtilizationOfUnsecuredLines</th>\n",
       "      <th>age</th>\n",
       "      <th>NumberOfTime30-59DaysPastDueNotWorse</th>\n",
       "      <th>DebtRatio</th>\n",
       "      <th>MonthlyIncome</th>\n",
       "      <th>NumberOfOpenCreditLinesAndLoans</th>\n",
       "      <th>NumberOfTimes90DaysLate</th>\n",
       "      <th>NumberRealEstateLoansOrLines</th>\n",
       "      <th>NumberOfTime60-89DaysPastDueNotWorse</th>\n",
       "      <th>NumberOfDependents</th>\n",
       "      <th>NumberOfTimes90DaysLate_TOTAL</th>\n",
       "      <th>IsOld</th>\n",
       "      <th>SeriousDlqin2yrs</th>\n",
       "      <th>SeriousDlqin2yrs.1</th>\n",
       "      <th>0 probability</th>\n",
       "      <th>1 probability</th>\n",
       "      <th>error</th>\n",
       "    </tr>\n",
       "  </thead>\n",
       "  <tbody>\n",
       "    <tr>\n",
       "      <th>0</th>\n",
       "      <td>5</td>\n",
       "      <td>0.907239</td>\n",
       "      <td>49</td>\n",
       "      <td>1</td>\n",
       "      <td>0.024926</td>\n",
       "      <td>63588.0</td>\n",
       "      <td>7</td>\n",
       "      <td>0</td>\n",
       "      <td>1</td>\n",
       "      <td>0</td>\n",
       "      <td>0.0</td>\n",
       "      <td>1</td>\n",
       "      <td>False</td>\n",
       "      <td>0</td>\n",
       "      <td>0</td>\n",
       "      <td>0.82094</td>\n",
       "      <td>0.17906</td>\n",
       "      <td>TN</td>\n",
       "    </tr>\n",
       "    <tr>\n",
       "      <th>1</th>\n",
       "      <td>20</td>\n",
       "      <td>0.602794</td>\n",
       "      <td>25</td>\n",
       "      <td>0</td>\n",
       "      <td>0.065868</td>\n",
       "      <td>333.0</td>\n",
       "      <td>2</td>\n",
       "      <td>0</td>\n",
       "      <td>0</td>\n",
       "      <td>0</td>\n",
       "      <td>0.0</td>\n",
       "      <td>0</td>\n",
       "      <td>False</td>\n",
       "      <td>0</td>\n",
       "      <td>0</td>\n",
       "      <td>0.95714</td>\n",
       "      <td>0.04286</td>\n",
       "      <td>TN</td>\n",
       "    </tr>\n",
       "    <tr>\n",
       "      <th>2</th>\n",
       "      <td>27</td>\n",
       "      <td>0.052436</td>\n",
       "      <td>58</td>\n",
       "      <td>0</td>\n",
       "      <td>0.097672</td>\n",
       "      <td>8333.0</td>\n",
       "      <td>22</td>\n",
       "      <td>0</td>\n",
       "      <td>1</td>\n",
       "      <td>0</td>\n",
       "      <td>0.0</td>\n",
       "      <td>0</td>\n",
       "      <td>False</td>\n",
       "      <td>0</td>\n",
       "      <td>0</td>\n",
       "      <td>0.98582</td>\n",
       "      <td>0.01418</td>\n",
       "      <td>TN</td>\n",
       "    </tr>\n",
       "    <tr>\n",
       "      <th>3</th>\n",
       "      <td>28</td>\n",
       "      <td>0.034421</td>\n",
       "      <td>69</td>\n",
       "      <td>0</td>\n",
       "      <td>0.042383</td>\n",
       "      <td>2500.0</td>\n",
       "      <td>17</td>\n",
       "      <td>0</td>\n",
       "      <td>0</td>\n",
       "      <td>0</td>\n",
       "      <td>1.0</td>\n",
       "      <td>0</td>\n",
       "      <td>False</td>\n",
       "      <td>0</td>\n",
       "      <td>0</td>\n",
       "      <td>0.98958</td>\n",
       "      <td>0.01042</td>\n",
       "      <td>TN</td>\n",
       "    </tr>\n",
       "    <tr>\n",
       "      <th>4</th>\n",
       "      <td>31</td>\n",
       "      <td>0.704074</td>\n",
       "      <td>28</td>\n",
       "      <td>1</td>\n",
       "      <td>0.155201</td>\n",
       "      <td>4200.0</td>\n",
       "      <td>8</td>\n",
       "      <td>0</td>\n",
       "      <td>0</td>\n",
       "      <td>0</td>\n",
       "      <td>0.0</td>\n",
       "      <td>1</td>\n",
       "      <td>False</td>\n",
       "      <td>0</td>\n",
       "      <td>0</td>\n",
       "      <td>0.86787</td>\n",
       "      <td>0.13213</td>\n",
       "      <td>TN</td>\n",
       "    </tr>\n",
       "    <tr>\n",
       "      <th>5</th>\n",
       "      <td>50</td>\n",
       "      <td>0.000080</td>\n",
       "      <td>70</td>\n",
       "      <td>0</td>\n",
       "      <td>0.256340</td>\n",
       "      <td>6900.0</td>\n",
       "      <td>21</td>\n",
       "      <td>1</td>\n",
       "      <td>1</td>\n",
       "      <td>0</td>\n",
       "      <td>0.0</td>\n",
       "      <td>1</td>\n",
       "      <td>False</td>\n",
       "      <td>0</td>\n",
       "      <td>0</td>\n",
       "      <td>0.88169</td>\n",
       "      <td>0.11831</td>\n",
       "      <td>TN</td>\n",
       "    </tr>\n",
       "    <tr>\n",
       "      <th>6</th>\n",
       "      <td>51</td>\n",
       "      <td>0.818978</td>\n",
       "      <td>73</td>\n",
       "      <td>0</td>\n",
       "      <td>3095.000000</td>\n",
       "      <td>0.0</td>\n",
       "      <td>9</td>\n",
       "      <td>0</td>\n",
       "      <td>1</td>\n",
       "      <td>1</td>\n",
       "      <td>0.0</td>\n",
       "      <td>1</td>\n",
       "      <td>True</td>\n",
       "      <td>0</td>\n",
       "      <td>0</td>\n",
       "      <td>0.72062</td>\n",
       "      <td>0.27938</td>\n",
       "      <td>TN</td>\n",
       "    </tr>\n",
       "    <tr>\n",
       "      <th>7</th>\n",
       "      <td>61</td>\n",
       "      <td>0.651603</td>\n",
       "      <td>58</td>\n",
       "      <td>0</td>\n",
       "      <td>0.241136</td>\n",
       "      <td>7783.0</td>\n",
       "      <td>11</td>\n",
       "      <td>0</td>\n",
       "      <td>1</td>\n",
       "      <td>0</td>\n",
       "      <td>0.0</td>\n",
       "      <td>0</td>\n",
       "      <td>False</td>\n",
       "      <td>0</td>\n",
       "      <td>0</td>\n",
       "      <td>0.96489</td>\n",
       "      <td>0.03511</td>\n",
       "      <td>TN</td>\n",
       "    </tr>\n",
       "    <tr>\n",
       "      <th>8</th>\n",
       "      <td>74</td>\n",
       "      <td>0.059669</td>\n",
       "      <td>31</td>\n",
       "      <td>0</td>\n",
       "      <td>3162.000000</td>\n",
       "      <td>0.0</td>\n",
       "      <td>11</td>\n",
       "      <td>0</td>\n",
       "      <td>2</td>\n",
       "      <td>0</td>\n",
       "      <td>1.0</td>\n",
       "      <td>0</td>\n",
       "      <td>False</td>\n",
       "      <td>0</td>\n",
       "      <td>0</td>\n",
       "      <td>0.96505</td>\n",
       "      <td>0.03495</td>\n",
       "      <td>TN</td>\n",
       "    </tr>\n",
       "    <tr>\n",
       "      <th>9</th>\n",
       "      <td>84</td>\n",
       "      <td>0.054497</td>\n",
       "      <td>56</td>\n",
       "      <td>0</td>\n",
       "      <td>0.492022</td>\n",
       "      <td>4950.0</td>\n",
       "      <td>18</td>\n",
       "      <td>0</td>\n",
       "      <td>2</td>\n",
       "      <td>0</td>\n",
       "      <td>0.0</td>\n",
       "      <td>0</td>\n",
       "      <td>False</td>\n",
       "      <td>0</td>\n",
       "      <td>0</td>\n",
       "      <td>0.98371</td>\n",
       "      <td>0.01629</td>\n",
       "      <td>TN</td>\n",
       "    </tr>\n",
       "  </tbody>\n",
       "</table>\n",
       "</div>"
      ],
      "text/plain": [
       "   field1  RevolvingUtilizationOfUnsecuredLines  age  \\\n",
       "0       5                              0.907239   49   \n",
       "1      20                              0.602794   25   \n",
       "2      27                              0.052436   58   \n",
       "3      28                              0.034421   69   \n",
       "4      31                              0.704074   28   \n",
       "5      50                              0.000080   70   \n",
       "6      51                              0.818978   73   \n",
       "7      61                              0.651603   58   \n",
       "8      74                              0.059669   31   \n",
       "9      84                              0.054497   56   \n",
       "\n",
       "   NumberOfTime30-59DaysPastDueNotWorse    DebtRatio  MonthlyIncome  \\\n",
       "0                                     1     0.024926        63588.0   \n",
       "1                                     0     0.065868          333.0   \n",
       "2                                     0     0.097672         8333.0   \n",
       "3                                     0     0.042383         2500.0   \n",
       "4                                     1     0.155201         4200.0   \n",
       "5                                     0     0.256340         6900.0   \n",
       "6                                     0  3095.000000            0.0   \n",
       "7                                     0     0.241136         7783.0   \n",
       "8                                     0  3162.000000            0.0   \n",
       "9                                     0     0.492022         4950.0   \n",
       "\n",
       "   NumberOfOpenCreditLinesAndLoans  NumberOfTimes90DaysLate  \\\n",
       "0                                7                        0   \n",
       "1                                2                        0   \n",
       "2                               22                        0   \n",
       "3                               17                        0   \n",
       "4                                8                        0   \n",
       "5                               21                        1   \n",
       "6                                9                        0   \n",
       "7                               11                        0   \n",
       "8                               11                        0   \n",
       "9                               18                        0   \n",
       "\n",
       "   NumberRealEstateLoansOrLines  NumberOfTime60-89DaysPastDueNotWorse  \\\n",
       "0                             1                                     0   \n",
       "1                             0                                     0   \n",
       "2                             1                                     0   \n",
       "3                             0                                     0   \n",
       "4                             0                                     0   \n",
       "5                             1                                     0   \n",
       "6                             1                                     1   \n",
       "7                             1                                     0   \n",
       "8                             2                                     0   \n",
       "9                             2                                     0   \n",
       "\n",
       "   NumberOfDependents  NumberOfTimes90DaysLate_TOTAL  IsOld  SeriousDlqin2yrs  \\\n",
       "0                 0.0                              1  False                 0   \n",
       "1                 0.0                              0  False                 0   \n",
       "2                 0.0                              0  False                 0   \n",
       "3                 1.0                              0  False                 0   \n",
       "4                 0.0                              1  False                 0   \n",
       "5                 0.0                              1  False                 0   \n",
       "6                 0.0                              1   True                 0   \n",
       "7                 0.0                              0  False                 0   \n",
       "8                 1.0                              0  False                 0   \n",
       "9                 0.0                              0  False                 0   \n",
       "\n",
       "   SeriousDlqin2yrs.1  0 probability  1 probability error  \n",
       "0                   0        0.82094        0.17906    TN  \n",
       "1                   0        0.95714        0.04286    TN  \n",
       "2                   0        0.98582        0.01418    TN  \n",
       "3                   0        0.98958        0.01042    TN  \n",
       "4                   0        0.86787        0.13213    TN  \n",
       "5                   0        0.88169        0.11831    TN  \n",
       "6                   0        0.72062        0.27938    TN  \n",
       "7                   0        0.96489        0.03511    TN  \n",
       "8                   0        0.96505        0.03495    TN  \n",
       "9                   0        0.98371        0.01629    TN  "
      ]
     },
     "execution_count": 15,
     "metadata": {},
     "output_type": "execute_result"
    }
   ],
   "source": [
    "df_val['error']= df_val.apply (CalculError, axis = 1)\n",
    "df_val.head (10)"
   ]
  },
  {
   "cell_type": "code",
   "execution_count": 16,
   "metadata": {},
   "outputs": [
    {
     "name": "stdout",
     "output_type": "stream",
     "text": [
      "error\n",
      "FN     1686\n",
      "FP      236\n",
      "TN    27749\n",
      "TP      329\n",
      "Name: field1, dtype: int64\n",
      "236\n",
      "          Prediction 0  Prediction 1\n",
      "Actual 0         27749           236\n",
      "Actual 1          1686           329\n"
     ]
    }
   ],
   "source": [
    "resultat = df_val.groupby('error')['field1'].nunique()\n",
    "print(resultat)\n",
    "print(resultat[1])\n",
    "\n",
    "df_matrixConfusion = pandas.DataFrame({'Prediction 0' : [resultat[2],resultat[0]], 'Prediction 1':[resultat[1],resultat[3]]},index = ['Actual 0', 'Actual 1'] )\n",
    "print(df_matrixConfusion)"
   ]
  },
  {
   "cell_type": "code",
   "execution_count": 17,
   "metadata": {},
   "outputs": [],
   "source": [
    "seuil = 0.5\n",
    "def CalculError_seuil(row):\n",
    "    v = row['SeriousDlqin2yrs']\n",
    "    w = row['1 probability']\n",
    "    if v == 0 :\n",
    "        if w < seuil :\n",
    "            return 'TN'\n",
    "        else :\n",
    "            return 'FP'\n",
    "    else :\n",
    "        if w < seuil :\n",
    "            return 'FN'\n",
    "        else :\n",
    "            return 'TP'"
   ]
  },
  {
   "cell_type": "code",
   "execution_count": 18,
   "metadata": {},
   "outputs": [
    {
     "data": {
      "text/html": [
       "<div>\n",
       "<style scoped>\n",
       "    .dataframe tbody tr th:only-of-type {\n",
       "        vertical-align: middle;\n",
       "    }\n",
       "\n",
       "    .dataframe tbody tr th {\n",
       "        vertical-align: top;\n",
       "    }\n",
       "\n",
       "    .dataframe thead th {\n",
       "        text-align: right;\n",
       "    }\n",
       "</style>\n",
       "<table border=\"1\" class=\"dataframe\">\n",
       "  <thead>\n",
       "    <tr style=\"text-align: right;\">\n",
       "      <th></th>\n",
       "      <th>field1</th>\n",
       "      <th>RevolvingUtilizationOfUnsecuredLines</th>\n",
       "      <th>age</th>\n",
       "      <th>NumberOfTime30-59DaysPastDueNotWorse</th>\n",
       "      <th>DebtRatio</th>\n",
       "      <th>MonthlyIncome</th>\n",
       "      <th>NumberOfOpenCreditLinesAndLoans</th>\n",
       "      <th>NumberOfTimes90DaysLate</th>\n",
       "      <th>NumberRealEstateLoansOrLines</th>\n",
       "      <th>NumberOfTime60-89DaysPastDueNotWorse</th>\n",
       "      <th>NumberOfDependents</th>\n",
       "      <th>NumberOfTimes90DaysLate_TOTAL</th>\n",
       "      <th>IsOld</th>\n",
       "      <th>SeriousDlqin2yrs</th>\n",
       "      <th>SeriousDlqin2yrs.1</th>\n",
       "      <th>0 probability</th>\n",
       "      <th>1 probability</th>\n",
       "      <th>error</th>\n",
       "    </tr>\n",
       "  </thead>\n",
       "  <tbody>\n",
       "    <tr>\n",
       "      <th>0</th>\n",
       "      <td>5</td>\n",
       "      <td>0.907239</td>\n",
       "      <td>49</td>\n",
       "      <td>1</td>\n",
       "      <td>0.024926</td>\n",
       "      <td>63588.0</td>\n",
       "      <td>7</td>\n",
       "      <td>0</td>\n",
       "      <td>1</td>\n",
       "      <td>0</td>\n",
       "      <td>0.0</td>\n",
       "      <td>1</td>\n",
       "      <td>False</td>\n",
       "      <td>0</td>\n",
       "      <td>0</td>\n",
       "      <td>0.82094</td>\n",
       "      <td>0.17906</td>\n",
       "      <td>TN</td>\n",
       "    </tr>\n",
       "    <tr>\n",
       "      <th>1</th>\n",
       "      <td>20</td>\n",
       "      <td>0.602794</td>\n",
       "      <td>25</td>\n",
       "      <td>0</td>\n",
       "      <td>0.065868</td>\n",
       "      <td>333.0</td>\n",
       "      <td>2</td>\n",
       "      <td>0</td>\n",
       "      <td>0</td>\n",
       "      <td>0</td>\n",
       "      <td>0.0</td>\n",
       "      <td>0</td>\n",
       "      <td>False</td>\n",
       "      <td>0</td>\n",
       "      <td>0</td>\n",
       "      <td>0.95714</td>\n",
       "      <td>0.04286</td>\n",
       "      <td>TN</td>\n",
       "    </tr>\n",
       "    <tr>\n",
       "      <th>2</th>\n",
       "      <td>27</td>\n",
       "      <td>0.052436</td>\n",
       "      <td>58</td>\n",
       "      <td>0</td>\n",
       "      <td>0.097672</td>\n",
       "      <td>8333.0</td>\n",
       "      <td>22</td>\n",
       "      <td>0</td>\n",
       "      <td>1</td>\n",
       "      <td>0</td>\n",
       "      <td>0.0</td>\n",
       "      <td>0</td>\n",
       "      <td>False</td>\n",
       "      <td>0</td>\n",
       "      <td>0</td>\n",
       "      <td>0.98582</td>\n",
       "      <td>0.01418</td>\n",
       "      <td>TN</td>\n",
       "    </tr>\n",
       "    <tr>\n",
       "      <th>3</th>\n",
       "      <td>28</td>\n",
       "      <td>0.034421</td>\n",
       "      <td>69</td>\n",
       "      <td>0</td>\n",
       "      <td>0.042383</td>\n",
       "      <td>2500.0</td>\n",
       "      <td>17</td>\n",
       "      <td>0</td>\n",
       "      <td>0</td>\n",
       "      <td>0</td>\n",
       "      <td>1.0</td>\n",
       "      <td>0</td>\n",
       "      <td>False</td>\n",
       "      <td>0</td>\n",
       "      <td>0</td>\n",
       "      <td>0.98958</td>\n",
       "      <td>0.01042</td>\n",
       "      <td>TN</td>\n",
       "    </tr>\n",
       "    <tr>\n",
       "      <th>4</th>\n",
       "      <td>31</td>\n",
       "      <td>0.704074</td>\n",
       "      <td>28</td>\n",
       "      <td>1</td>\n",
       "      <td>0.155201</td>\n",
       "      <td>4200.0</td>\n",
       "      <td>8</td>\n",
       "      <td>0</td>\n",
       "      <td>0</td>\n",
       "      <td>0</td>\n",
       "      <td>0.0</td>\n",
       "      <td>1</td>\n",
       "      <td>False</td>\n",
       "      <td>0</td>\n",
       "      <td>0</td>\n",
       "      <td>0.86787</td>\n",
       "      <td>0.13213</td>\n",
       "      <td>TN</td>\n",
       "    </tr>\n",
       "    <tr>\n",
       "      <th>5</th>\n",
       "      <td>50</td>\n",
       "      <td>0.000080</td>\n",
       "      <td>70</td>\n",
       "      <td>0</td>\n",
       "      <td>0.256340</td>\n",
       "      <td>6900.0</td>\n",
       "      <td>21</td>\n",
       "      <td>1</td>\n",
       "      <td>1</td>\n",
       "      <td>0</td>\n",
       "      <td>0.0</td>\n",
       "      <td>1</td>\n",
       "      <td>False</td>\n",
       "      <td>0</td>\n",
       "      <td>0</td>\n",
       "      <td>0.88169</td>\n",
       "      <td>0.11831</td>\n",
       "      <td>TN</td>\n",
       "    </tr>\n",
       "    <tr>\n",
       "      <th>6</th>\n",
       "      <td>51</td>\n",
       "      <td>0.818978</td>\n",
       "      <td>73</td>\n",
       "      <td>0</td>\n",
       "      <td>3095.000000</td>\n",
       "      <td>0.0</td>\n",
       "      <td>9</td>\n",
       "      <td>0</td>\n",
       "      <td>1</td>\n",
       "      <td>1</td>\n",
       "      <td>0.0</td>\n",
       "      <td>1</td>\n",
       "      <td>True</td>\n",
       "      <td>0</td>\n",
       "      <td>0</td>\n",
       "      <td>0.72062</td>\n",
       "      <td>0.27938</td>\n",
       "      <td>TN</td>\n",
       "    </tr>\n",
       "    <tr>\n",
       "      <th>7</th>\n",
       "      <td>61</td>\n",
       "      <td>0.651603</td>\n",
       "      <td>58</td>\n",
       "      <td>0</td>\n",
       "      <td>0.241136</td>\n",
       "      <td>7783.0</td>\n",
       "      <td>11</td>\n",
       "      <td>0</td>\n",
       "      <td>1</td>\n",
       "      <td>0</td>\n",
       "      <td>0.0</td>\n",
       "      <td>0</td>\n",
       "      <td>False</td>\n",
       "      <td>0</td>\n",
       "      <td>0</td>\n",
       "      <td>0.96489</td>\n",
       "      <td>0.03511</td>\n",
       "      <td>TN</td>\n",
       "    </tr>\n",
       "    <tr>\n",
       "      <th>8</th>\n",
       "      <td>74</td>\n",
       "      <td>0.059669</td>\n",
       "      <td>31</td>\n",
       "      <td>0</td>\n",
       "      <td>3162.000000</td>\n",
       "      <td>0.0</td>\n",
       "      <td>11</td>\n",
       "      <td>0</td>\n",
       "      <td>2</td>\n",
       "      <td>0</td>\n",
       "      <td>1.0</td>\n",
       "      <td>0</td>\n",
       "      <td>False</td>\n",
       "      <td>0</td>\n",
       "      <td>0</td>\n",
       "      <td>0.96505</td>\n",
       "      <td>0.03495</td>\n",
       "      <td>TN</td>\n",
       "    </tr>\n",
       "    <tr>\n",
       "      <th>9</th>\n",
       "      <td>84</td>\n",
       "      <td>0.054497</td>\n",
       "      <td>56</td>\n",
       "      <td>0</td>\n",
       "      <td>0.492022</td>\n",
       "      <td>4950.0</td>\n",
       "      <td>18</td>\n",
       "      <td>0</td>\n",
       "      <td>2</td>\n",
       "      <td>0</td>\n",
       "      <td>0.0</td>\n",
       "      <td>0</td>\n",
       "      <td>False</td>\n",
       "      <td>0</td>\n",
       "      <td>0</td>\n",
       "      <td>0.98371</td>\n",
       "      <td>0.01629</td>\n",
       "      <td>TN</td>\n",
       "    </tr>\n",
       "  </tbody>\n",
       "</table>\n",
       "</div>"
      ],
      "text/plain": [
       "   field1  RevolvingUtilizationOfUnsecuredLines  age  \\\n",
       "0       5                              0.907239   49   \n",
       "1      20                              0.602794   25   \n",
       "2      27                              0.052436   58   \n",
       "3      28                              0.034421   69   \n",
       "4      31                              0.704074   28   \n",
       "5      50                              0.000080   70   \n",
       "6      51                              0.818978   73   \n",
       "7      61                              0.651603   58   \n",
       "8      74                              0.059669   31   \n",
       "9      84                              0.054497   56   \n",
       "\n",
       "   NumberOfTime30-59DaysPastDueNotWorse    DebtRatio  MonthlyIncome  \\\n",
       "0                                     1     0.024926        63588.0   \n",
       "1                                     0     0.065868          333.0   \n",
       "2                                     0     0.097672         8333.0   \n",
       "3                                     0     0.042383         2500.0   \n",
       "4                                     1     0.155201         4200.0   \n",
       "5                                     0     0.256340         6900.0   \n",
       "6                                     0  3095.000000            0.0   \n",
       "7                                     0     0.241136         7783.0   \n",
       "8                                     0  3162.000000            0.0   \n",
       "9                                     0     0.492022         4950.0   \n",
       "\n",
       "   NumberOfOpenCreditLinesAndLoans  NumberOfTimes90DaysLate  \\\n",
       "0                                7                        0   \n",
       "1                                2                        0   \n",
       "2                               22                        0   \n",
       "3                               17                        0   \n",
       "4                                8                        0   \n",
       "5                               21                        1   \n",
       "6                                9                        0   \n",
       "7                               11                        0   \n",
       "8                               11                        0   \n",
       "9                               18                        0   \n",
       "\n",
       "   NumberRealEstateLoansOrLines  NumberOfTime60-89DaysPastDueNotWorse  \\\n",
       "0                             1                                     0   \n",
       "1                             0                                     0   \n",
       "2                             1                                     0   \n",
       "3                             0                                     0   \n",
       "4                             0                                     0   \n",
       "5                             1                                     0   \n",
       "6                             1                                     1   \n",
       "7                             1                                     0   \n",
       "8                             2                                     0   \n",
       "9                             2                                     0   \n",
       "\n",
       "   NumberOfDependents  NumberOfTimes90DaysLate_TOTAL  IsOld  SeriousDlqin2yrs  \\\n",
       "0                 0.0                              1  False                 0   \n",
       "1                 0.0                              0  False                 0   \n",
       "2                 0.0                              0  False                 0   \n",
       "3                 1.0                              0  False                 0   \n",
       "4                 0.0                              1  False                 0   \n",
       "5                 0.0                              1  False                 0   \n",
       "6                 0.0                              1   True                 0   \n",
       "7                 0.0                              0  False                 0   \n",
       "8                 1.0                              0  False                 0   \n",
       "9                 0.0                              0  False                 0   \n",
       "\n",
       "   SeriousDlqin2yrs.1  0 probability  1 probability error  \n",
       "0                   0        0.82094        0.17906    TN  \n",
       "1                   0        0.95714        0.04286    TN  \n",
       "2                   0        0.98582        0.01418    TN  \n",
       "3                   0        0.98958        0.01042    TN  \n",
       "4                   0        0.86787        0.13213    TN  \n",
       "5                   0        0.88169        0.11831    TN  \n",
       "6                   0        0.72062        0.27938    TN  \n",
       "7                   0        0.96489        0.03511    TN  \n",
       "8                   0        0.96505        0.03495    TN  \n",
       "9                   0        0.98371        0.01629    TN  "
      ]
     },
     "execution_count": 18,
     "metadata": {},
     "output_type": "execute_result"
    }
   ],
   "source": [
    "df_val['error']= df_val.apply (CalculError_seuil, axis = 1)\n",
    "df_val.head (10)"
   ]
  },
  {
   "cell_type": "code",
   "execution_count": 19,
   "metadata": {},
   "outputs": [
    {
     "name": "stdout",
     "output_type": "stream",
     "text": [
      "          Prediction 0  Prediction 1\n",
      "Actual 0         27749           236\n",
      "Actual 1          1686           329\n"
     ]
    }
   ],
   "source": [
    "resultat = df_val.groupby('error')['field1'].nunique()\n",
    "df_matrixConfusion = pandas.DataFrame({'Prediction 0' : [resultat[2],resultat[0]], 'Prediction 1':[resultat[1],resultat[3]]},index = ['Actual 0', 'Actual 1'] )\n",
    "print(df_matrixConfusion)"
   ]
  },
  {
   "cell_type": "code",
   "execution_count": 20,
   "metadata": {},
   "outputs": [
    {
     "name": "stdout",
     "output_type": "stream",
     "text": [
      "          Prediction 0  Prediction 1\n",
      "Actual 0           500          -500\n",
      "Actual 1         -2500             0\n"
     ]
    }
   ],
   "source": [
    "df_matrixCost = pandas.DataFrame({'Prediction 0' : [500,-2500], 'Prediction 1':[-500, 0]},index = ['Actual 0', 'Actual 1'] )\n",
    "print(df_matrixCost)"
   ]
  },
  {
   "cell_type": "code",
   "execution_count": 21,
   "metadata": {
    "scrolled": false
   },
   "outputs": [
    {
     "name": "stdout",
     "output_type": "stream",
     "text": [
      "          Prediction 0  Prediction 1\n",
      "Actual 0      13874500       -118000\n",
      "Actual 1      -4215000             0\n",
      "9541500\n"
     ]
    }
   ],
   "source": [
    "total_gain = df_matrixCost * df_matrixConfusion\n",
    "print (total_gain)\n",
    "total_gain2 = total_gain.sum (axis = 1)\n",
    "total_gain3 = total_gain2.sum (axis = 0)\n",
    "print (total_gain3)"
   ]
  },
  {
   "cell_type": "code",
   "execution_count": 22,
   "metadata": {
    "scrolled": true
   },
   "outputs": [
    {
     "data": {
      "text/html": [
       "<div>\n",
       "<style scoped>\n",
       "    .dataframe tbody tr th:only-of-type {\n",
       "        vertical-align: middle;\n",
       "    }\n",
       "\n",
       "    .dataframe tbody tr th {\n",
       "        vertical-align: top;\n",
       "    }\n",
       "\n",
       "    .dataframe thead th {\n",
       "        text-align: right;\n",
       "    }\n",
       "</style>\n",
       "<table border=\"1\" class=\"dataframe\">\n",
       "  <thead>\n",
       "    <tr style=\"text-align: right;\">\n",
       "      <th></th>\n",
       "      <th>field1</th>\n",
       "      <th>RevolvingUtilizationOfUnsecuredLines</th>\n",
       "      <th>age</th>\n",
       "      <th>NumberOfTime30-59DaysPastDueNotWorse</th>\n",
       "      <th>DebtRatio</th>\n",
       "      <th>MonthlyIncome</th>\n",
       "      <th>NumberOfOpenCreditLinesAndLoans</th>\n",
       "      <th>NumberOfTimes90DaysLate</th>\n",
       "      <th>NumberRealEstateLoansOrLines</th>\n",
       "      <th>NumberOfTime60-89DaysPastDueNotWorse</th>\n",
       "      <th>NumberOfDependents</th>\n",
       "      <th>NumberOfTimes90DaysLate_TOTAL</th>\n",
       "      <th>IsOld</th>\n",
       "      <th>SeriousDlqin2yrs</th>\n",
       "      <th>SeriousDlqin2yrs.1</th>\n",
       "      <th>0 probability</th>\n",
       "      <th>1 probability</th>\n",
       "      <th>error</th>\n",
       "    </tr>\n",
       "  </thead>\n",
       "  <tbody>\n",
       "    <tr>\n",
       "      <th>26571</th>\n",
       "      <td>133069</td>\n",
       "      <td>1.081836</td>\n",
       "      <td>35</td>\n",
       "      <td>3</td>\n",
       "      <td>0.291469</td>\n",
       "      <td>3375.0</td>\n",
       "      <td>3</td>\n",
       "      <td>12</td>\n",
       "      <td>1</td>\n",
       "      <td>0</td>\n",
       "      <td>2.0</td>\n",
       "      <td>15</td>\n",
       "      <td>False</td>\n",
       "      <td>0</td>\n",
       "      <td>1</td>\n",
       "      <td>0.26858</td>\n",
       "      <td>0.73142</td>\n",
       "      <td>FP</td>\n",
       "    </tr>\n",
       "    <tr>\n",
       "      <th>29184</th>\n",
       "      <td>146045</td>\n",
       "      <td>0.687749</td>\n",
       "      <td>45</td>\n",
       "      <td>2</td>\n",
       "      <td>0.787285</td>\n",
       "      <td>2500.0</td>\n",
       "      <td>24</td>\n",
       "      <td>6</td>\n",
       "      <td>1</td>\n",
       "      <td>4</td>\n",
       "      <td>2.0</td>\n",
       "      <td>12</td>\n",
       "      <td>False</td>\n",
       "      <td>0</td>\n",
       "      <td>1</td>\n",
       "      <td>0.27221</td>\n",
       "      <td>0.72779</td>\n",
       "      <td>FP</td>\n",
       "    </tr>\n",
       "    <tr>\n",
       "      <th>17056</th>\n",
       "      <td>84956</td>\n",
       "      <td>1.165834</td>\n",
       "      <td>47</td>\n",
       "      <td>2</td>\n",
       "      <td>440.000000</td>\n",
       "      <td>NaN</td>\n",
       "      <td>3</td>\n",
       "      <td>3</td>\n",
       "      <td>1</td>\n",
       "      <td>2</td>\n",
       "      <td>0.0</td>\n",
       "      <td>7</td>\n",
       "      <td>False</td>\n",
       "      <td>0</td>\n",
       "      <td>1</td>\n",
       "      <td>0.27826</td>\n",
       "      <td>0.72174</td>\n",
       "      <td>FP</td>\n",
       "    </tr>\n",
       "    <tr>\n",
       "      <th>25392</th>\n",
       "      <td>127279</td>\n",
       "      <td>1.445042</td>\n",
       "      <td>38</td>\n",
       "      <td>0</td>\n",
       "      <td>0.136132</td>\n",
       "      <td>4715.0</td>\n",
       "      <td>5</td>\n",
       "      <td>3</td>\n",
       "      <td>0</td>\n",
       "      <td>7</td>\n",
       "      <td>2.0</td>\n",
       "      <td>10</td>\n",
       "      <td>False</td>\n",
       "      <td>0</td>\n",
       "      <td>1</td>\n",
       "      <td>0.28135</td>\n",
       "      <td>0.71865</td>\n",
       "      <td>FP</td>\n",
       "    </tr>\n",
       "    <tr>\n",
       "      <th>23370</th>\n",
       "      <td>116889</td>\n",
       "      <td>0.999939</td>\n",
       "      <td>60</td>\n",
       "      <td>1</td>\n",
       "      <td>0.533593</td>\n",
       "      <td>3333.0</td>\n",
       "      <td>8</td>\n",
       "      <td>6</td>\n",
       "      <td>1</td>\n",
       "      <td>1</td>\n",
       "      <td>1.0</td>\n",
       "      <td>8</td>\n",
       "      <td>False</td>\n",
       "      <td>0</td>\n",
       "      <td>1</td>\n",
       "      <td>0.28635</td>\n",
       "      <td>0.71365</td>\n",
       "      <td>FP</td>\n",
       "    </tr>\n",
       "    <tr>\n",
       "      <th>...</th>\n",
       "      <td>...</td>\n",
       "      <td>...</td>\n",
       "      <td>...</td>\n",
       "      <td>...</td>\n",
       "      <td>...</td>\n",
       "      <td>...</td>\n",
       "      <td>...</td>\n",
       "      <td>...</td>\n",
       "      <td>...</td>\n",
       "      <td>...</td>\n",
       "      <td>...</td>\n",
       "      <td>...</td>\n",
       "      <td>...</td>\n",
       "      <td>...</td>\n",
       "      <td>...</td>\n",
       "      <td>...</td>\n",
       "      <td>...</td>\n",
       "      <td>...</td>\n",
       "    </tr>\n",
       "    <tr>\n",
       "      <th>7320</th>\n",
       "      <td>36549</td>\n",
       "      <td>4.937063</td>\n",
       "      <td>33</td>\n",
       "      <td>0</td>\n",
       "      <td>0.766168</td>\n",
       "      <td>3540.0</td>\n",
       "      <td>12</td>\n",
       "      <td>2</td>\n",
       "      <td>1</td>\n",
       "      <td>0</td>\n",
       "      <td>0.0</td>\n",
       "      <td>2</td>\n",
       "      <td>False</td>\n",
       "      <td>0</td>\n",
       "      <td>1</td>\n",
       "      <td>0.39416</td>\n",
       "      <td>0.60584</td>\n",
       "      <td>FP</td>\n",
       "    </tr>\n",
       "    <tr>\n",
       "      <th>15959</th>\n",
       "      <td>79476</td>\n",
       "      <td>1.519308</td>\n",
       "      <td>23</td>\n",
       "      <td>0</td>\n",
       "      <td>0.055925</td>\n",
       "      <td>750.0</td>\n",
       "      <td>2</td>\n",
       "      <td>2</td>\n",
       "      <td>0</td>\n",
       "      <td>0</td>\n",
       "      <td>0.0</td>\n",
       "      <td>2</td>\n",
       "      <td>False</td>\n",
       "      <td>0</td>\n",
       "      <td>1</td>\n",
       "      <td>0.39416</td>\n",
       "      <td>0.60584</td>\n",
       "      <td>FP</td>\n",
       "    </tr>\n",
       "    <tr>\n",
       "      <th>22528</th>\n",
       "      <td>112819</td>\n",
       "      <td>1.031011</td>\n",
       "      <td>59</td>\n",
       "      <td>4</td>\n",
       "      <td>0.638397</td>\n",
       "      <td>4916.0</td>\n",
       "      <td>13</td>\n",
       "      <td>1</td>\n",
       "      <td>0</td>\n",
       "      <td>0</td>\n",
       "      <td>1.0</td>\n",
       "      <td>5</td>\n",
       "      <td>False</td>\n",
       "      <td>0</td>\n",
       "      <td>1</td>\n",
       "      <td>0.39468</td>\n",
       "      <td>0.60533</td>\n",
       "      <td>FP</td>\n",
       "    </tr>\n",
       "    <tr>\n",
       "      <th>10016</th>\n",
       "      <td>49976</td>\n",
       "      <td>1.000000</td>\n",
       "      <td>59</td>\n",
       "      <td>4</td>\n",
       "      <td>0.386850</td>\n",
       "      <td>3132.0</td>\n",
       "      <td>5</td>\n",
       "      <td>1</td>\n",
       "      <td>1</td>\n",
       "      <td>0</td>\n",
       "      <td>0.0</td>\n",
       "      <td>5</td>\n",
       "      <td>False</td>\n",
       "      <td>0</td>\n",
       "      <td>1</td>\n",
       "      <td>0.39605</td>\n",
       "      <td>0.60395</td>\n",
       "      <td>FP</td>\n",
       "    </tr>\n",
       "    <tr>\n",
       "      <th>15126</th>\n",
       "      <td>75057</td>\n",
       "      <td>0.692528</td>\n",
       "      <td>30</td>\n",
       "      <td>3</td>\n",
       "      <td>0.269825</td>\n",
       "      <td>4791.0</td>\n",
       "      <td>12</td>\n",
       "      <td>1</td>\n",
       "      <td>0</td>\n",
       "      <td>1</td>\n",
       "      <td>3.0</td>\n",
       "      <td>5</td>\n",
       "      <td>False</td>\n",
       "      <td>0</td>\n",
       "      <td>1</td>\n",
       "      <td>0.39722</td>\n",
       "      <td>0.60278</td>\n",
       "      <td>FP</td>\n",
       "    </tr>\n",
       "  </tbody>\n",
       "</table>\n",
       "<p>100 rows × 18 columns</p>\n",
       "</div>"
      ],
      "text/plain": [
       "       field1  RevolvingUtilizationOfUnsecuredLines  age  \\\n",
       "26571  133069                              1.081836   35   \n",
       "29184  146045                              0.687749   45   \n",
       "17056   84956                              1.165834   47   \n",
       "25392  127279                              1.445042   38   \n",
       "23370  116889                              0.999939   60   \n",
       "...       ...                                   ...  ...   \n",
       "7320    36549                              4.937063   33   \n",
       "15959   79476                              1.519308   23   \n",
       "22528  112819                              1.031011   59   \n",
       "10016   49976                              1.000000   59   \n",
       "15126   75057                              0.692528   30   \n",
       "\n",
       "       NumberOfTime30-59DaysPastDueNotWorse   DebtRatio  MonthlyIncome  \\\n",
       "26571                                     3    0.291469         3375.0   \n",
       "29184                                     2    0.787285         2500.0   \n",
       "17056                                     2  440.000000            NaN   \n",
       "25392                                     0    0.136132         4715.0   \n",
       "23370                                     1    0.533593         3333.0   \n",
       "...                                     ...         ...            ...   \n",
       "7320                                      0    0.766168         3540.0   \n",
       "15959                                     0    0.055925          750.0   \n",
       "22528                                     4    0.638397         4916.0   \n",
       "10016                                     4    0.386850         3132.0   \n",
       "15126                                     3    0.269825         4791.0   \n",
       "\n",
       "       NumberOfOpenCreditLinesAndLoans  NumberOfTimes90DaysLate  \\\n",
       "26571                                3                       12   \n",
       "29184                               24                        6   \n",
       "17056                                3                        3   \n",
       "25392                                5                        3   \n",
       "23370                                8                        6   \n",
       "...                                ...                      ...   \n",
       "7320                                12                        2   \n",
       "15959                                2                        2   \n",
       "22528                               13                        1   \n",
       "10016                                5                        1   \n",
       "15126                               12                        1   \n",
       "\n",
       "       NumberRealEstateLoansOrLines  NumberOfTime60-89DaysPastDueNotWorse  \\\n",
       "26571                             1                                     0   \n",
       "29184                             1                                     4   \n",
       "17056                             1                                     2   \n",
       "25392                             0                                     7   \n",
       "23370                             1                                     1   \n",
       "...                             ...                                   ...   \n",
       "7320                              1                                     0   \n",
       "15959                             0                                     0   \n",
       "22528                             0                                     0   \n",
       "10016                             1                                     0   \n",
       "15126                             0                                     1   \n",
       "\n",
       "       NumberOfDependents  NumberOfTimes90DaysLate_TOTAL  IsOld  \\\n",
       "26571                 2.0                             15  False   \n",
       "29184                 2.0                             12  False   \n",
       "17056                 0.0                              7  False   \n",
       "25392                 2.0                             10  False   \n",
       "23370                 1.0                              8  False   \n",
       "...                   ...                            ...    ...   \n",
       "7320                  0.0                              2  False   \n",
       "15959                 0.0                              2  False   \n",
       "22528                 1.0                              5  False   \n",
       "10016                 0.0                              5  False   \n",
       "15126                 3.0                              5  False   \n",
       "\n",
       "       SeriousDlqin2yrs  SeriousDlqin2yrs.1  0 probability  1 probability  \\\n",
       "26571                 0                   1        0.26858        0.73142   \n",
       "29184                 0                   1        0.27221        0.72779   \n",
       "17056                 0                   1        0.27826        0.72174   \n",
       "25392                 0                   1        0.28135        0.71865   \n",
       "23370                 0                   1        0.28635        0.71365   \n",
       "...                 ...                 ...            ...            ...   \n",
       "7320                  0                   1        0.39416        0.60584   \n",
       "15959                 0                   1        0.39416        0.60584   \n",
       "22528                 0                   1        0.39468        0.60533   \n",
       "10016                 0                   1        0.39605        0.60395   \n",
       "15126                 0                   1        0.39722        0.60278   \n",
       "\n",
       "      error  \n",
       "26571    FP  \n",
       "29184    FP  \n",
       "17056    FP  \n",
       "25392    FP  \n",
       "23370    FP  \n",
       "...     ...  \n",
       "7320     FP  \n",
       "15959    FP  \n",
       "22528    FP  \n",
       "10016    FP  \n",
       "15126    FP  \n",
       "\n",
       "[100 rows x 18 columns]"
      ]
     },
     "execution_count": 22,
     "metadata": {},
     "output_type": "execute_result"
    }
   ],
   "source": [
    "#Sort by bigerror\n",
    "df_bigError = df_val.sort_values(by = ['SeriousDlqin2yrs','1 probability'], ascending = [True,False] )\n",
    "df_bigError.head(100)"
   ]
  },
  {
   "cell_type": "markdown",
   "metadata": {},
   "source": [
    "# Recap"
   ]
  },
  {
   "cell_type": "code",
   "execution_count": 23,
   "metadata": {},
   "outputs": [
    {
     "name": "stdout",
     "output_type": "stream",
     "text": [
      "<class 'pandas.core.frame.DataFrame'>\n",
      "RangeIndex: 30000 entries, 0 to 29999\n",
      "Data columns (total 17 columns):\n",
      "field1                                  30000 non-null int64\n",
      "RevolvingUtilizationOfUnsecuredLines    30000 non-null float64\n",
      "age                                     30000 non-null int64\n",
      "NumberOfTime30-59DaysPastDueNotWorse    30000 non-null int64\n",
      "DebtRatio                               30000 non-null float64\n",
      "MonthlyIncome                           23999 non-null float64\n",
      "NumberOfOpenCreditLinesAndLoans         30000 non-null int64\n",
      "NumberOfTimes90DaysLate                 30000 non-null int64\n",
      "NumberRealEstateLoansOrLines            30000 non-null int64\n",
      "NumberOfTime60-89DaysPastDueNotWorse    30000 non-null int64\n",
      "NumberOfDependents                      29192 non-null float64\n",
      "NumberOfTimes90DaysLate_TOTAL           30000 non-null int64\n",
      "IsOld                                   30000 non-null bool\n",
      "SeriousDlqin2yrs                        30000 non-null int64\n",
      "SeriousDlqin2yrs.1                      30000 non-null int64\n",
      "0 probability                           30000 non-null float64\n",
      "1 probability                           30000 non-null float64\n",
      "dtypes: bool(1), float64(6), int64(10)\n",
      "memory usage: 3.7 MB\n"
     ]
    }
   ],
   "source": [
    "import pandas\n",
    "from pandas import read_csv\n",
    "df_val = read_csv('my_predictions_val.csv')\n",
    "df_val.info()"
   ]
  },
  {
   "cell_type": "code",
   "execution_count": 24,
   "metadata": {},
   "outputs": [],
   "source": [
    "def CalculError_seuil2 (row):\n",
    "    v = row['SeriousDlqin2yrs']\n",
    "    w = row['1 probability']\n",
    "    if v == 0 :\n",
    "        if w < seuil :\n",
    "            return 'TN'\n",
    "        else :\n",
    "            return 'FP'\n",
    "    else :\n",
    "        if w < seuil :\n",
    "            return 'FN'\n",
    "        else :\n",
    "            return 'TP'"
   ]
  },
  {
   "cell_type": "code",
   "execution_count": 25,
   "metadata": {},
   "outputs": [],
   "source": [
    "def calcul_gain (j): \n",
    "    seuil = j\n",
    "    df_val['error']= df_val.apply (CalculError_seuil2, axis = 1)\n",
    "    df_val.head (10)\n",
    "    resultat = df_val.groupby('error')['field1'].nunique()\n",
    "    df_matrixConfusion = pandas.DataFrame({'Prediction 0' : [resultat[2],resultat[0]], 'Prediction 1':[resultat[1],resultat[3]]},index = ['Actual 0', 'Actual 1'] )\n",
    "    df_matrixCost = pandas.DataFrame({'Prediction 0' : [500,-2500], 'Prediction 1':[-500, 0]},index = ['Actual 0', 'Actual 1'] )\n",
    "    total_gain = df_matrixCost * df_matrixConfusion\n",
    "    total_gain2 = total_gain.sum (axis = 1)\n",
    "    total_gain3 = total_gain2.sum (axis = 0)\n",
    "    return total_gain3\n",
    "\n"
   ]
  },
  {
   "cell_type": "code",
   "execution_count": 26,
   "metadata": {},
   "outputs": [
    {
     "name": "stdout",
     "output_type": "stream",
     "text": [
      "[9541500, 9541500, 9541500, 9541500, 9541500, 9541500, 9541500, 9541500, 9541500, 9541500]\n"
     ]
    }
   ],
   "source": [
    "gain = []\n",
    "\n",
    "for i in range(0,10):\n",
    "    j=i/10\n",
    "    gain.append(calcul_gain(j))\n",
    "\n",
    "df_seuil = gain\n",
    "print(gain)                \n"
   ]
  },
  {
   "cell_type": "markdown",
   "metadata": {},
   "source": [
    "# PREDICTION"
   ]
  },
  {
   "cell_type": "markdown",
   "metadata": {},
   "source": [
    "Building Source for TEST"
   ]
  },
  {
   "cell_type": "code",
   "execution_count": null,
   "metadata": {},
   "outputs": [
    {
     "data": {
      "text/plain": [
       "True"
      ]
     },
     "execution_count": 15,
     "metadata": {},
     "output_type": "execute_result"
    }
   ],
   "source": [
    "source_Test = api.create_source('Test_New1.csv')\n",
    "api.ok(source_Test)"
   ]
  },
  {
   "cell_type": "markdown",
   "metadata": {},
   "source": [
    "Building Dataset for TEST"
   ]
  },
  {
   "cell_type": "code",
   "execution_count": null,
   "metadata": {},
   "outputs": [
    {
     "data": {
      "text/plain": [
       "True"
      ]
     },
     "execution_count": 16,
     "metadata": {},
     "output_type": "execute_result"
    }
   ],
   "source": [
    "dataset_Test = api.create_dataset(source_Test)\n",
    "api.ok(dataset_Test) "
   ]
  },
  {
   "cell_type": "markdown",
   "metadata": {},
   "source": [
    "Building model"
   ]
  },
  {
   "cell_type": "code",
   "execution_count": null,
   "metadata": {},
   "outputs": [
    {
     "data": {
      "text/plain": [
       "True"
      ]
     },
     "execution_count": 17,
     "metadata": {},
     "output_type": "execute_result"
    }
   ],
   "source": [
    "ensemble = api.create_ensemble(dataset)\n",
    "api.ok(ensemble)"
   ]
  },
  {
   "cell_type": "markdown",
   "metadata": {},
   "source": [
    "Batch Prediction on Test\n"
   ]
  },
  {
   "cell_type": "code",
   "execution_count": null,
   "metadata": {},
   "outputs": [
    {
     "data": {
      "text/plain": [
       "True"
      ]
     },
     "execution_count": 18,
     "metadata": {},
     "output_type": "execute_result"
    }
   ],
   "source": [
    "batch_prediction = api.create_batch_prediction(ensemble, dataset_Test, {\"name\": \"my batch predction\", \"all_fields\":True, \"header\":True,\"probabilities\":True})\n",
    "api.ok(batch_prediction)"
   ]
  },
  {
   "cell_type": "markdown",
   "metadata": {},
   "source": [
    "downloading the results to your computer"
   ]
  },
  {
   "cell_type": "code",
   "execution_count": null,
   "metadata": {},
   "outputs": [
    {
     "data": {
      "text/plain": [
       "'my_predictions.csv'"
      ]
     },
     "execution_count": 19,
     "metadata": {},
     "output_type": "execute_result"
    }
   ],
   "source": [
    "api.download_batch_prediction(batch_prediction,filename='my_predictions.csv')"
   ]
  }
 ],
 "metadata": {
  "kernelspec": {
   "display_name": "Python 3",
   "language": "python",
   "name": "python3"
  },
  "language_info": {
   "codemirror_mode": {
    "name": "ipython",
    "version": 3
   },
   "file_extension": ".py",
   "mimetype": "text/x-python",
   "name": "python",
   "nbconvert_exporter": "python",
   "pygments_lexer": "ipython3",
   "version": "3.7.3"
  }
 },
 "nbformat": 4,
 "nbformat_minor": 2
}
