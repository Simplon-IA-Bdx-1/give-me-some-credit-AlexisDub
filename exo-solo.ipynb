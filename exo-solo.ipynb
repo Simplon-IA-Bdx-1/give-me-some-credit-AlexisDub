{
 "cells": [
  {
   "cell_type": "code",
   "execution_count": 36,
   "metadata": {},
   "outputs": [
    {
     "name": "stdout",
     "output_type": "stream",
     "text": [
      "[[0.0, 0.01703559, 42.0, 1.0, 0.0, 0.0, 6.0, 0.0, 1.0, 0.0, 1.0]]\n",
      "[[0.96890354 0.03109647]]\n"
     ]
    },
    {
     "name": "stderr",
     "output_type": "stream",
     "text": [
      "/opt/conda/lib/python3.7/site-packages/sklearn/base.py:253: UserWarning: Trying to unpickle estimator LabelEncoder from version 0.20.3 when using version 0.20.4. This might lead to breaking code or invalid results. Use at your own risk.\n",
      "  UserWarning)\n"
     ]
    }
   ],
   "source": [
    "import bigml.api\n",
    "from bigml.api import BigML\n",
    "from pandas import DataFrame\n",
    "from pandas import read_csv\n",
    "from joblib import dump\n",
    "from joblib import load\n",
    "\n",
    "\n",
    "api = BigML(project='project/5d94a45aeba31d46690001d3')\n",
    "\n",
    "model_X = load('model_X.joblib')\n",
    "df = DataFrame(data={\n",
    "    '0' : [0],\n",
    "    'RevolvingUtilizationOfUnsecuredLines': [0.01703559],\n",
    "    'NumberOfDependents': [1],\n",
    "    'DebtRatio': [0],\n",
    "    'age': [42],\n",
    "    'NumberOfOpenCreditLinesAndLoans': [6],\n",
    "    'NumberRealEstateLoansOrLines': [1],\n",
    "    'NumberOfTime30-59DaysPastDueNotWorse': [1],\n",
    "    'NumberOfTime60-89DaysPastDueNotWorse': [0],\n",
    "    'NumberOfTimes90DaysLate': [0],\n",
    "    'MonthlyIncome' :[0]\n",
    "})\n",
    "df2 = df[['0', 'RevolvingUtilizationOfUnsecuredLines','age', 'NumberOfTime30-59DaysPastDueNotWorse','DebtRatio', 'MonthlyIncome', 'NumberOfOpenCreditLinesAndLoans', 'NumberOfTimes90DaysLate','NumberRealEstateLoansOrLines', 'NumberOfTime60-89DaysPastDueNotWorse', 'NumberOfDependents']]\n",
    "df2\n",
    "X_one_input = df2.values.tolist()\n",
    "print(X_one_input)\n",
    "\n",
    "y_one_input_proba = model_X.predict_proba(X_one_input)[0:1]\n",
    "print(y_one_input_proba)\n"
   ]
  },
  {
   "cell_type": "code",
   "execution_count": null,
   "metadata": {},
   "outputs": [],
   "source": []
  }
 ],
 "metadata": {
  "kernelspec": {
   "display_name": "Python 3",
   "language": "python",
   "name": "python3"
  },
  "language_info": {
   "codemirror_mode": {
    "name": "ipython",
    "version": 3
   },
   "file_extension": ".py",
   "mimetype": "text/x-python",
   "name": "python",
   "nbconvert_exporter": "python",
   "pygments_lexer": "ipython3",
   "version": "3.7.3"
  }
 },
 "nbformat": 4,
 "nbformat_minor": 2
}
