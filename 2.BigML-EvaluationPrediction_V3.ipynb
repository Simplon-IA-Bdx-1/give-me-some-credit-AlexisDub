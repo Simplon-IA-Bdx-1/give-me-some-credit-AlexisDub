{
 "cells": [
  {
   "cell_type": "markdown",
   "metadata": {},
   "source": [
    "# Evaluation by BigML "
   ]
  },
  {
   "cell_type": "markdown",
   "metadata": {},
   "source": [
    "Check Install and launch BigML ; \n",
    "for help : https://bigml.readthedocs.io/en/latest/index.html#local-predictions ; \n",
    "Use this link to retreive the key with your account :  https://bigml.com/account/apikey"
   ]
  },
  {
   "cell_type": "code",
   "execution_count": 12,
   "metadata": {},
   "outputs": [],
   "source": [
    "import bigml.api\n",
    "from bigml.api import BigML\n",
    "api = BigML('ALEXISD', '8fe5e17917b5a9ef7a0ec327a53c3f1d507f0911', project='project/5d94a45aeba31d46690001d3')"
   ]
  },
  {
   "cell_type": "markdown",
   "metadata": {},
   "source": [
    "Building Source"
   ]
  },
  {
   "cell_type": "code",
   "execution_count": 13,
   "metadata": {},
   "outputs": [
    {
     "data": {
      "text/plain": [
       "True"
      ]
     },
     "execution_count": 13,
     "metadata": {},
     "output_type": "execute_result"
    }
   ],
   "source": [
    "source = api.create_source('cs-training.csv')\n",
    "api.ok(source)"
   ]
  },
  {
   "cell_type": "markdown",
   "metadata": {},
   "source": [
    "Building Dataset"
   ]
  },
  {
   "cell_type": "code",
   "execution_count": 14,
   "metadata": {},
   "outputs": [
    {
     "data": {
      "text/plain": [
       "True"
      ]
     },
     "execution_count": 14,
     "metadata": {},
     "output_type": "execute_result"
    }
   ],
   "source": [
    "dataset = api.create_dataset(source)\n",
    "api.ok(dataset) "
   ]
  },
  {
   "cell_type": "markdown",
   "metadata": {},
   "source": [
    "Random Split Building dataset into 80% train and 20% Validation"
   ]
  },
  {
   "cell_type": "code",
   "execution_count": 15,
   "metadata": {},
   "outputs": [
    {
     "data": {
      "text/plain": [
       "True"
      ]
     },
     "execution_count": 15,
     "metadata": {},
     "output_type": "execute_result"
    }
   ],
   "source": [
    "train_dataset = api.create_dataset(dataset, {\"name\": \"train\", \"sample_rate\": 0.8, \"seed\": \"my seed\"})\n",
    "api.ok(train_dataset)\n",
    "validation_dataset = api.create_dataset(dataset, {\"name\": \"validation\", \"sample_rate\": 0.8, \"seed\": \"my seed\", \"out_of_bag\": True})\n",
    "api.ok(validation_dataset)"
   ]
  },
  {
   "cell_type": "markdown",
   "metadata": {},
   "source": [
    "Building model"
   ]
  },
  {
   "cell_type": "code",
   "execution_count": 16,
   "metadata": {},
   "outputs": [
    {
     "data": {
      "text/plain": [
       "True"
      ]
     },
     "execution_count": 16,
     "metadata": {},
     "output_type": "execute_result"
    }
   ],
   "source": [
    "ensemble = api.create_ensemble(train_dataset)\n",
    "api.ok(ensemble)"
   ]
  },
  {
   "cell_type": "markdown",
   "metadata": {},
   "source": [
    "Building evaluation and print evaluation"
   ]
  },
  {
   "cell_type": "code",
   "execution_count": 17,
   "metadata": {},
   "outputs": [
    {
     "data": {
      "text/plain": [
       "True"
      ]
     },
     "execution_count": 17,
     "metadata": {},
     "output_type": "execute_result"
    }
   ],
   "source": [
    "evaluation = api.create_evaluation(ensemble,validation_dataset)\n",
    "api.ok (evaluation)"
   ]
  },
  {
   "cell_type": "markdown",
   "metadata": {},
   "source": [
    "Print"
   ]
  },
  {
   "cell_type": "code",
   "execution_count": 18,
   "metadata": {},
   "outputs": [
    {
     "name": "stdout",
     "output_type": "stream",
     "text": [
      "{   'mean': {   'mean_absolute_error': 0.89952,\n",
      "                'mean_squared_error': 1.2345,\n",
      "                'r_squared': 0},\n",
      "    'model': {   'mean_absolute_error': 0.75886,\n",
      "                 'mean_squared_error': 1.00047,\n",
      "                 'per_class_statistics': [],\n",
      "                 'r_squared': 0.18958},\n",
      "    'random': {   'mean_absolute_error': 9.36501,\n",
      "                  'mean_squared_error': 120.54517,\n",
      "                  'r_squared': -96.64727}}\n"
     ]
    }
   ],
   "source": [
    "api.pprint(evaluation['object']['result'])"
   ]
  },
  {
   "cell_type": "code",
   "execution_count": 15,
   "metadata": {},
   "outputs": [
    {
     "ename": "KeyError",
     "evalue": "'accuracy'",
     "output_type": "error",
     "traceback": [
      "\u001b[0;31m---------------------------------------------------------------------------\u001b[0m",
      "\u001b[0;31mKeyError\u001b[0m                                  Traceback (most recent call last)",
      "\u001b[0;32m<ipython-input-15-4702b15b26e6>\u001b[0m in \u001b[0;36m<module>\u001b[0;34m\u001b[0m\n\u001b[0;32m----> 1\u001b[0;31m \u001b[0mapi\u001b[0m\u001b[0;34m.\u001b[0m\u001b[0mpprint\u001b[0m\u001b[0;34m(\u001b[0m\u001b[0mevaluation\u001b[0m\u001b[0;34m[\u001b[0m\u001b[0;34m'object'\u001b[0m\u001b[0;34m]\u001b[0m\u001b[0;34m[\u001b[0m\u001b[0;34m'result'\u001b[0m\u001b[0;34m]\u001b[0m\u001b[0;34m[\u001b[0m\u001b[0;34m'model'\u001b[0m\u001b[0;34m]\u001b[0m\u001b[0;34m[\u001b[0m\u001b[0;34m'accuracy'\u001b[0m\u001b[0;34m]\u001b[0m\u001b[0;34m)\u001b[0m\u001b[0;34m\u001b[0m\u001b[0;34m\u001b[0m\u001b[0m\n\u001b[0m\u001b[1;32m      2\u001b[0m \u001b[0mapi\u001b[0m\u001b[0;34m.\u001b[0m\u001b[0mpprint\u001b[0m\u001b[0;34m(\u001b[0m\u001b[0mevaluation\u001b[0m\u001b[0;34m[\u001b[0m\u001b[0;34m'object'\u001b[0m\u001b[0;34m]\u001b[0m\u001b[0;34m[\u001b[0m\u001b[0;34m'result'\u001b[0m\u001b[0;34m]\u001b[0m\u001b[0;34m[\u001b[0m\u001b[0;34m'model'\u001b[0m\u001b[0;34m]\u001b[0m\u001b[0;34m[\u001b[0m\u001b[0;34m'average_area_under_roc_curve'\u001b[0m\u001b[0;34m]\u001b[0m\u001b[0;34m)\u001b[0m\u001b[0;34m\u001b[0m\u001b[0;34m\u001b[0m\u001b[0m\n\u001b[1;32m      3\u001b[0m \u001b[0mapi\u001b[0m\u001b[0;34m.\u001b[0m\u001b[0mpprint\u001b[0m\u001b[0;34m(\u001b[0m\u001b[0mevaluation\u001b[0m\u001b[0;34m[\u001b[0m\u001b[0;34m'object'\u001b[0m\u001b[0;34m]\u001b[0m\u001b[0;34m[\u001b[0m\u001b[0;34m'result'\u001b[0m\u001b[0;34m]\u001b[0m\u001b[0;34m[\u001b[0m\u001b[0;34m'model'\u001b[0m\u001b[0;34m]\u001b[0m\u001b[0;34m[\u001b[0m\u001b[0;34m'confusion_matrix'\u001b[0m\u001b[0;34m]\u001b[0m\u001b[0;34m)\u001b[0m\u001b[0;34m\u001b[0m\u001b[0;34m\u001b[0m\u001b[0m\n",
      "\u001b[0;31mKeyError\u001b[0m: 'accuracy'"
     ]
    }
   ],
   "source": [
    "api.pprint(evaluation['object']['result']['model']['accuracy'])\n",
    "api.pprint(evaluation['object']['result']['model']['average_area_under_roc_curve'])\n",
    "api.pprint(evaluation['object']['result']['model']['confusion_matrix'])\n"
   ]
  },
  {
   "cell_type": "code",
   "execution_count": 19,
   "metadata": {},
   "outputs": [
    {
     "data": {
      "text/plain": [
       "'my_predictions_val.csv'"
      ]
     },
     "execution_count": 19,
     "metadata": {},
     "output_type": "execute_result"
    }
   ],
   "source": [
    "batch_prediction = api.create_batch_prediction(ensemble, validation_dataset, {\"name\": \"my val predction\", \"all_fields\":True, \"header\":True,\"probabilities\":True})\n",
    "api.ok(batch_prediction)\n",
    "api.download_batch_prediction(batch_prediction,filename='my_predictions_val.csv')"
   ]
  },
  {
   "cell_type": "markdown",
   "metadata": {},
   "source": [
    "# Confusion Matrix by Pandas"
   ]
  },
  {
   "cell_type": "code",
   "execution_count": 1,
   "metadata": {},
   "outputs": [],
   "source": [
    "import pandas as pd\n",
    "from pandas import read_csv\n",
    "import matplotlib.pyplot as plt\n",
    "df_val = read_csv('my_predictions_val.csv')\n"
   ]
  },
  {
   "cell_type": "code",
   "execution_count": 2,
   "metadata": {},
   "outputs": [],
   "source": [
    "def CalculError_seuil2 (row):\n",
    "    v = row['SeriousDlqin2yrs']\n",
    "    w = row['1 probability']\n",
    "    s1 = row['seuil']\n",
    "    if v == 0 :\n",
    "        if w < s1 :\n",
    "            return 'TN'\n",
    "        else :\n",
    "            return 'FP'\n",
    "    else :\n",
    "        if w < s1 :\n",
    "            return 'FN'\n",
    "        else :\n",
    "            return 'TP'"
   ]
  },
  {
   "cell_type": "code",
   "execution_count": 3,
   "metadata": {},
   "outputs": [],
   "source": [
    "def calcul_gain (s,PL0_0,PL0_1,PL1_0,PL1_1,option): \n",
    "    df_val['seuil'] = s\n",
    "    df_val['error']= df_val.apply (CalculError_seuil2, axis = 1)\n",
    "    resultat = df_val.groupby('error')['field1'].nunique()\n",
    "    df_matrixConfusion = pd.DataFrame({'Prediction 0' : [resultat[2],resultat[0]], 'Prediction 1':[resultat[1],resultat[3]]},index = ['Actual 0', 'Actual 1'] )\n",
    "    df_matrixCost = pd.DataFrame({'Prediction 0' : [PL0_0,PL1_0], 'Prediction 1':[PL0_1, PL1_1]},index = ['Actual 0', 'Actual 1'] )\n",
    "    total_gain = df_matrixCost * df_matrixConfusion\n",
    "    total_gain2 = total_gain.sum (axis = 1)\n",
    "    total_gain3 = total_gain2.sum (axis = 0)\n",
    "    \n",
    "    switcher={\n",
    "                1: resultat,\n",
    "                2: df_matrixConfusion,\n",
    "                3: df_matrixCost,\n",
    "                4: total_gain3\n",
    "            }\n",
    "    return switcher.get(option,\"Invalid option\")\n",
    "    "
   ]
  },
  {
   "cell_type": "code",
   "execution_count": 4,
   "metadata": {},
   "outputs": [],
   "source": [
    "#COST Matrix\n",
    "PL0_0 = 500\n",
    "PL1_0 = -2500\n",
    "PL0_1 = -500\n",
    "PL1_1 = 0\n",
    "\n",
    "#Precison\n",
    "P = 100"
   ]
  },
  {
   "cell_type": "code",
   "execution_count": 5,
   "metadata": {},
   "outputs": [
    {
     "name": "stdout",
     "output_type": "stream",
     "text": [
      "\n",
      "**** Pour un seuil = 0.5 ****\n",
      "error\n",
      "FN     1686\n",
      "FP      236\n",
      "TN    27749\n",
      "TP      329\n",
      "Name: field1, dtype: int64\n",
      "\n",
      "** Matrice de confusion\n",
      "          Prediction 0  Prediction 1\n",
      "Actual 0         27749           236\n",
      "Actual 1          1686           329\n",
      "\n",
      "** Matrice de cout\n",
      "          Prediction 0  Prediction 1\n",
      "Actual 0           500          -500\n",
      "Actual 1         -2500             0\n",
      "\n",
      " => Le P&L est de 9541500 au seuil de 0.5\n",
      "\n",
      "**** Simulation ****\n",
      "=> Le P&L maximum est de 9989500 au seuil de 0.29\n"
     ]
    },
    {
     "data": {
      "text/plain": [
       "<matplotlib.axes._subplots.AxesSubplot at 0x7f3f7ee2f320>"
      ]
     },
     "execution_count": 5,
     "metadata": {},
     "output_type": "execute_result"
    },
    {
     "data": {
      "image/png": "[encoded data removed]",
      "text/plain": [
       "<Figure size 432x288 with 1 Axes>"
      ]
     },
     "metadata": {
      "needs_background": "light"
     },
     "output_type": "display_data"
    }
   ],
   "source": [
    "#df_val.info()\n",
    "\n",
    "res = calcul_gain (0.5,PL0_0,PL0_1,PL1_0,PL1_1,1)\n",
    "mtxcf = calcul_gain (0.5,PL0_0,PL0_1,PL1_0,PL1_1,2)\n",
    "mtxct = calcul_gain (0.5,PL0_0,PL0_1,PL1_0,PL1_1,3)\n",
    "pl05 = calcul_gain (0.5,PL0_0,PL0_1,PL1_0,PL1_1,4)\n",
    "\n",
    "print()\n",
    "print ('**** Pour un seuil = 0.5 ****')\n",
    "print (res)\n",
    "print()\n",
    "print ('** Matrice de confusion')\n",
    "print (mtxcf)\n",
    "print()\n",
    "print ('** Matrice de cout')\n",
    "print (mtxct)\n",
    "print()\n",
    "print (f' => Le P&L est de {pl05} au seuil de 0.5')\n",
    "\n",
    "print()\n",
    "print ('**** Simulation ****')\n",
    "\n",
    "dfx = pd.concat([pd.DataFrame({'seuil': [i/P],\n",
    "                                       'gain' : [calcul_gain(i/P,PL0_0,PL0_1,PL1_0,PL1_1,4)]}) \n",
    "                                        for i in range (1,int(7*P/10))], ignore_index=True)\n",
    "\n",
    "dfx_max = dfx[dfx['gain'] == dfx['gain'].max()]\n",
    "idx_max = dfx_max.index[0]\n",
    "seuil_max = dfx_max.at[idx_max,'seuil']\n",
    "gain_max = dfx_max.at[idx_max,'gain']\n",
    "print (f'=> Le P&L maximum est de {gain_max} au seuil de {seuil_max}')\n",
    "dfx.plot(x='seuil' , y='gain')"
   ]
  },
  {
   "cell_type": "code",
   "execution_count": 8,
   "metadata": {},
   "outputs": [
    {
     "name": "stdout",
     "output_type": "stream",
     "text": [
      "0.8545627110588755\n"
     ]
    }
   ],
   "source": [
    "mask_positives = (df_val.SeriousDlqin2yrs==1)\n",
    "mask_negatives = (df_val.SeriousDlqin2yrs==0)\n",
    "positives = df_val[mask_positives]\n",
    "negatives = df_val[mask_negatives]\n",
    "\n",
    "c = 0\n",
    "n = positives.shape[0] * negatives.shape[0]\n",
    "for proba_positive in positives['1 probability']:\n",
    "    count = negatives[ negatives['1 probability'] < proba_positive ].shape[0]\n",
    "    c = c+count\n",
    "\n",
    "auc = c/n\n",
    "print(auc)"
   ]
  },
  {
   "cell_type": "code",
   "execution_count": 1,
   "metadata": {},
   "outputs": [
    {
     "name": "stdout",
     "output_type": "stream",
     "text": [
      "[10, 20, 30, 40, 50, 60, 70, 80, 90, 100]\n",
      "[0.83114, 0.84526, 0.84648, 0.85022, 0.85199, 0.85267, 0.85297, 0.85368, 0.85429, 0.85502]\n",
      "[10, 20, 30, 40, 50, 60, 70, 80, 90, 100]\n",
      "[0.81831, 0.8223, 0.83525, 0.82907, 0.83155, 0.82001, 0.82901, 0.82621, 0.83725, 0.83556]\n"
     ]
    },
    {
     "data": {
      "text/plain": [
       "<Figure size 640x480 with 1 Axes>"
      ]
     },
     "metadata": {},
     "output_type": "display_data"
    }
   ],
   "source": [
    "from bigml.api import BigML\n",
    "import matplotlib.pyplot as plt\n",
    "\n",
    "api = BigML('ALEXISD', '8fe5e17917b5a9ef7a0ec327a53c3f1d507f0911', project='project/5d94a45aeba31d46690001d3')\n",
    "#api = BigML(project='project/5d94a45aeba31d46690001d3')\n",
    "\n",
    "source_train = api.create_source('https://oml-data.s3.amazonaws.com/kaggle-give-me-credit-train.csv')\n",
    "\n",
    "\n",
    "# On crée un dataset à partir de la source puis on split (Val et Test)\n",
    "\n",
    "train_full = api.create_dataset(source_train, {\"name\": \"Train Full\"})\n",
    "val_set = api.create_dataset(train_full, {\"name\": \"Val_set\", \"sample_rate\": 0.8, \"seed\": \"my seed\"})\n",
    "test_set = api.create_dataset(train_full, {\"name\": \"Test_set\", \"sample_rate\": 0.8 , \"seed\": \"my seed\", \"out_of_bag\": True})\n",
    "\n",
    "# creation des listes vides pour contenir l'abscisse (taille du dataset) et l'ordonnée (AUC) pour le modele ensemble et deepnet\n",
    "\n",
    "x_ensemble = []\n",
    "y_ensemble = []\n",
    "x_deepnet = []\n",
    "y_deepnet = []\n",
    "\n",
    "for i in range(1,11): # On fait une boucle pour faire varier de 10 à 100 % de lignes du dataset Val_set\n",
    "   \n",
    "    # On crée le nouveau dataset de train à partir du dataset de train initial\n",
    "    train_set = api.create_dataset(val_set, {\"name\": \"Train Set \" + str(i/10), \"sample_rate\": i/10, \"seed\": \"my seed\"})\n",
    "    api.ok(val_set)   \n",
    "   \n",
    "    # On crée le modèle (ensemble) à partir du train_set\n",
    "    ensemble = api.create_ensemble(train_set, {\"objective_field\" : \"SeriousDlqin2yrs\", \"name\": \"Ensemble \" + str(i/10)})\n",
    "    api.ok(ensemble)\n",
    "   \n",
    "    # On évalue le modèle ensemble (avec le test_set)\n",
    "    evaluation = api.create_evaluation(ensemble, test_set)\n",
    "    api.ok(evaluation)\n",
    "   \n",
    "    # On crée le modèle (deepnet) à partir du train_set\n",
    "    deepnet = api.create_deepnet(train_set, {\"objective_field\" : \"SeriousDlqin2yrs\", \"name\": \"Deepnet \" + str(i/10)})\n",
    "    api.ok(deepnet)\n",
    "   \n",
    "    # On évalue le modèle deepnet (avec le test_set)\n",
    "    evaluation_deepnet = api.create_evaluation(deepnet, test_set)\n",
    "    api.ok(evaluation_deepnet)\n",
    "\n",
    "    # On stocke dans une liste la valeur de l'axe des abscisses (graph_x) et la valeur de l'AUC (graph_y) à partir de la donnée BigML\n",
    "    x_ensemble.append(i*10)\n",
    "    y_ensemble.append(evaluation['object']['result']['model']['average_area_under_roc_curve'])\n",
    "    \n",
    "    x_deepnet.append(i*10)\n",
    "    y_deepnet.append(evaluation_deepnet['object']['result']['model']['average_area_under_roc_curve'])\n",
    "    \n",
    "    # On itere de 1 le compteur i et on recommence la boucle\n",
    "    i += 1\n",
    "\n",
    "# On imprime les resultats\n",
    "    \n",
    "print(x_ensemble)\n",
    "print(y_ensemble)\n",
    "print(x_deepnet)\n",
    "print(y_deepnet)\n",
    "\n"
   ]
  },
  {
   "cell_type": "code",
   "execution_count": 2,
   "metadata": {},
   "outputs": [
    {
     "data": {
      "image/png": "[encoded data removed]",
      "text/plain": [
       "<Figure size 432x288 with 1 Axes>"
      ]
     },
     "metadata": {
      "needs_background": "light"
     },
     "output_type": "display_data"
    }
   ],
   "source": [
    "\n",
    "# On cree le graphique du modele deepnet et ensemble (AUC en fonction de la taille du dataset)\n",
    "\n",
    "fig, ax = plt.subplots()\n",
    "ax.plot(x_ensemble, y_ensemble, label='Modèle Ensemble')\n",
    "ax.plot(x_deepnet, y_deepnet, label='Modèle Deepnet')\n",
    "ax.set(xlabel='% du train_set', ylabel='AUC',  title='Learning Curve AUC / % Train Set')\n",
    "plt.legend(bbox_to_anchor=(1.2, 1), loc='best', borderaxespad=0.)\n",
    "ax.grid()\n",
    "plt.show()"
   ]
  },
  {
   "cell_type": "markdown",
   "metadata": {},
   "source": [
    "# PREDICTION by BigML"
   ]
  },
  {
   "cell_type": "markdown",
   "metadata": {},
   "source": [
    "Building Source for TEST"
   ]
  },
  {
   "cell_type": "code",
   "execution_count": 11,
   "metadata": {},
   "outputs": [
    {
     "ename": "NameError",
     "evalue": "name 'api' is not defined",
     "output_type": "error",
     "traceback": [
      "\u001b[0;31m---------------------------------------------------------------------------\u001b[0m",
      "\u001b[0;31mNameError\u001b[0m                                 Traceback (most recent call last)",
      "\u001b[0;32m<ipython-input-11-449f6ef263d4>\u001b[0m in \u001b[0;36m<module>\u001b[0;34m\u001b[0m\n\u001b[0;32m----> 1\u001b[0;31m \u001b[0msource_Test\u001b[0m \u001b[0;34m=\u001b[0m \u001b[0mapi\u001b[0m\u001b[0;34m.\u001b[0m\u001b[0mcreate_source\u001b[0m\u001b[0;34m(\u001b[0m\u001b[0;34m'Test_New1.csv'\u001b[0m\u001b[0;34m)\u001b[0m\u001b[0;34m\u001b[0m\u001b[0;34m\u001b[0m\u001b[0m\n\u001b[0m\u001b[1;32m      2\u001b[0m \u001b[0mapi\u001b[0m\u001b[0;34m.\u001b[0m\u001b[0mok\u001b[0m\u001b[0;34m(\u001b[0m\u001b[0msource_Test\u001b[0m\u001b[0;34m)\u001b[0m\u001b[0;34m\u001b[0m\u001b[0;34m\u001b[0m\u001b[0m\n",
      "\u001b[0;31mNameError\u001b[0m: name 'api' is not defined"
     ]
    }
   ],
   "source": [
    "source_Test = api.create_source('Test_New1.csv')\n",
    "api.ok(source_Test)"
   ]
  },
  {
   "cell_type": "markdown",
   "metadata": {},
   "source": [
    "Building Dataset for TEST"
   ]
  },
  {
   "cell_type": "code",
   "execution_count": null,
   "metadata": {},
   "outputs": [
    {
     "data": {
      "text/plain": [
       "True"
      ]
     },
     "execution_count": 16,
     "metadata": {},
     "output_type": "execute_result"
    }
   ],
   "source": [
    "dataset_Test = api.create_dataset(source_Test)\n",
    "api.ok(dataset_Test) "
   ]
  },
  {
   "cell_type": "markdown",
   "metadata": {},
   "source": [
    "Building model"
   ]
  },
  {
   "cell_type": "code",
   "execution_count": null,
   "metadata": {},
   "outputs": [
    {
     "data": {
      "text/plain": [
       "True"
      ]
     },
     "execution_count": 17,
     "metadata": {},
     "output_type": "execute_result"
    }
   ],
   "source": [
    "ensemble = api.create_ensemble(dataset)\n",
    "api.ok(ensemble)"
   ]
  },
  {
   "cell_type": "markdown",
   "metadata": {},
   "source": [
    "Batch Prediction on Test\n"
   ]
  },
  {
   "cell_type": "code",
   "execution_count": null,
   "metadata": {},
   "outputs": [
    {
     "data": {
      "text/plain": [
       "True"
      ]
     },
     "execution_count": 18,
     "metadata": {},
     "output_type": "execute_result"
    }
   ],
   "source": [
    "batch_prediction = api.create_batch_prediction(ensemble, dataset_Test, {\"name\": \"my batch predction\", \"all_fields\":True, \"header\":True,\"probabilities\":True})\n",
    "api.ok(batch_prediction)"
   ]
  },
  {
   "cell_type": "markdown",
   "metadata": {},
   "source": [
    "downloading the results to your computer"
   ]
  },
  {
   "cell_type": "code",
   "execution_count": null,
   "metadata": {},
   "outputs": [
    {
     "data": {
      "text/plain": [
       "'my_predictions.csv'"
      ]
     },
     "execution_count": 19,
     "metadata": {},
     "output_type": "execute_result"
    }
   ],
   "source": [
    "api.download_batch_prediction(batch_prediction,filename='my_predictions.csv')"
   ]
  }
 ],
 "metadata": {
  "kernelspec": {
   "display_name": "Python 3",
   "language": "python",
   "name": "python3"
  },
  "language_info": {
   "codemirror_mode": {
    "name": "ipython",
    "version": 3
   },
   "file_extension": ".py",
   "mimetype": "text/x-python",
   "name": "python",
   "nbconvert_exporter": "python",
   "pygments_lexer": "ipython3",
   "version": "3.7.3"
  }
 },
 "nbformat": 4,
 "nbformat_minor": 2
}
